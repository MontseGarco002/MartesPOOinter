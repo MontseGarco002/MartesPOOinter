{
  "nbformat": 4,
  "nbformat_minor": 0,
  "metadata": {
    "colab": {
      "provenance": [],
      "authorship_tag": "ABX9TyODuJnkmtvaRULgN8YiuKcB",
      "include_colab_link": true
    },
    "kernelspec": {
      "name": "python3",
      "display_name": "Python 3"
    },
    "language_info": {
      "name": "python"
    }
  },
  "cells": [
    {
      "cell_type": "markdown",
      "metadata": {
        "id": "view-in-github",
        "colab_type": "text"
      },
      "source": [
        "<a href=\"https://colab.research.google.com/github/MontseGarco002/MartesPOOinter/blob/main/MartesPoo.ipynb\" target=\"_parent\"><img src=\"https://colab.research.google.com/assets/colab-badge.svg\" alt=\"Open In Colab\"/></a>"
      ]
    },
    {
      "cell_type": "code",
      "execution_count": null,
      "metadata": {
        "id": "JnMxT3YH8eQZ"
      },
      "outputs": [],
      "source": [
        "alumno={'numero_cuenta' : 12345678, 'carrera': 'ICO',\n",
        "        'direccion' : {'calle': 'Rancho seco', 'Numero':23},\n",
        "        'telefonos' : ['5535231298','5558377442']\n",
        "        }\n"
      ]
    },
    {
      "cell_type": "code",
      "source": [
        "print(alumno)\n",
        "print(alumno['telefonos'])\n",
        "alumno ['Facultad']=\"FES Aragon\"\n",
        "print(alumno)"
      ],
      "metadata": {
        "colab": {
          "base_uri": "https://localhost:8080/"
        },
        "id": "bAgk6uBH8_c0",
        "outputId": "b683fe36-33a2-4cd2-f56b-c9490e7846f7"
      },
      "execution_count": null,
      "outputs": [
        {
          "output_type": "stream",
          "name": "stdout",
          "text": [
            "{'numero_cuenta': 12345678, 'carrera': 'ICO', 'direccion': {'calle': 'Rancho seco', 'Numero': 23}, 'telefonos': ['5535231298', '5558377442']}\n",
            "['5535231298', '5558377442']\n",
            "{'numero_cuenta': 12345678, 'carrera': 'ICO', 'direccion': {'calle': 'Rancho seco', 'Numero': 23}, 'telefonos': ['5535231298', '5558377442'], 'Facultad': 'FES Aragon'}\n"
          ]
        }
      ]
    },
    {
      "cell_type": "code",
      "source": [
        "#if\n",
        "edad = 20\n",
        "if edad >= 18:\n",
        "    print(\"Eres mayor de edad.\")\n"
      ],
      "metadata": {
        "colab": {
          "base_uri": "https://localhost:8080/"
        },
        "id": "n0UxnEfz_BOl",
        "outputId": "9e49d667-792b-4fb2-bbd4-631c4c1628b1"
      },
      "execution_count": null,
      "outputs": [
        {
          "output_type": "stream",
          "name": "stdout",
          "text": [
            "Eres mayor de edad.\n"
          ]
        }
      ]
    },
    {
      "cell_type": "code",
      "source": [
        "# if-esle\n",
        "\n",
        "edad = 15\n",
        "if edad >= 18:\n",
        "    print(\"Eres mayor de edad.\")\n",
        "else:\n",
        "    print(\"Eres menor de edad.\")"
      ],
      "metadata": {
        "colab": {
          "base_uri": "https://localhost:8080/"
        },
        "id": "0eKlVNQH_u1r",
        "outputId": "7b26f3b5-4a30-4e27-862e-e9e71a7d0c9e"
      },
      "execution_count": null,
      "outputs": [
        {
          "output_type": "stream",
          "name": "stdout",
          "text": [
            "Eres menor de edad.\n"
          ]
        }
      ]
    },
    {
      "cell_type": "code",
      "source": [
        "# if- elif - else\n",
        "edad = 20\n",
        "if edad < 13:\n",
        "    print(\"Eres un niño.\")\n",
        "elif edad < 18:\n",
        "    print(\"Eres un adolescente.\")\n",
        "else:\n",
        "    print(\"Eres un adulto.\")"
      ],
      "metadata": {
        "colab": {
          "base_uri": "https://localhost:8080/"
        },
        "id": "6wWnrJoJ_3mV",
        "outputId": "49696675-2bd8-4c4d-bca2-f38db2498c0e"
      },
      "execution_count": null,
      "outputs": [
        {
          "output_type": "stream",
          "name": "stdout",
          "text": [
            "Eres un adulto.\n"
          ]
        }
      ]
    },
    {
      "cell_type": "code",
      "source": [
        "# if-elif-elif\n",
        "edad = 20\n",
        "if edad < 13:\n",
        "    print(\"Eres un niño.\")\n",
        "elif edad < 18:\n",
        "    print(\"Eres un adolescente.\")\n",
        "elif edad < 30:\n",
        "    print(\"Eres un joven adulto.\")\n",
        "\n",
        "\n"
      ],
      "metadata": {
        "colab": {
          "base_uri": "https://localhost:8080/"
        },
        "id": "zvhYGjGeANeb",
        "outputId": "6444a7cb-8ffd-4bba-a0c0-dc3b29aa373d"
      },
      "execution_count": null,
      "outputs": [
        {
          "output_type": "stream",
          "name": "stdout",
          "text": [
            "Eres un joven adulto.\n"
          ]
        }
      ]
    },
    {
      "cell_type": "code",
      "source": [
        "# For   for(int = 1 ; i<10 ; i++)\n",
        "\n",
        "for i in range(1, 10, 1):\n",
        "    print(i)"
      ],
      "metadata": {
        "colab": {
          "base_uri": "https://localhost:8080/"
        },
        "id": "lkfoKDn6BDfn",
        "outputId": "5a5674a1-63c6-40f5-d4dd-eae343141b6c"
      },
      "execution_count": null,
      "outputs": [
        {
          "output_type": "stream",
          "name": "stdout",
          "text": [
            "1\n",
            "2\n",
            "3\n",
            "4\n",
            "5\n",
            "6\n",
            "7\n",
            "8\n",
            "9\n"
          ]
        }
      ]
    },
    {
      "cell_type": "code",
      "source": [
        "\n",
        "frutas = ['piña', 'pera', 'manzana', 'fresa', 'aguacate']\n",
        "for numero in frutas:\n",
        "    print(numero)\n",
        "\n",
        "print(\"-------------------------\")\n",
        "#Break y continue\n",
        "for numero in frutas:\n",
        "    if numero == \"manzana\":\n",
        "        continue   # ó continue\n",
        "    print(frutas)  # imprime la fruta"
      ],
      "metadata": {
        "colab": {
          "base_uri": "https://localhost:8080/"
        },
        "id": "f-dGmsT0BiGc",
        "outputId": "4466e12c-da98-45c5-f6b4-b8a116a3acc1"
      },
      "execution_count": null,
      "outputs": [
        {
          "output_type": "stream",
          "name": "stdout",
          "text": [
            "piña\n",
            "pera\n",
            "manzana\n",
            "fresa\n",
            "aguacate\n",
            "-------------------------\n",
            "['piña', 'pera', 'manzana', 'fresa', 'aguacate']\n",
            "['piña', 'pera', 'manzana', 'fresa', 'aguacate']\n",
            "['piña', 'pera', 'manzana', 'fresa', 'aguacate']\n",
            "['piña', 'pera', 'manzana', 'fresa', 'aguacate']\n"
          ]
        }
      ]
    },
    {
      "cell_type": "code",
      "source": [
        "tam = 0\n",
        "while tam < 10 :\n",
        "  print(tam)\n",
        "  tam = int(input(\"Dame un número entero:\"))\n",
        "print(\"Final\")"
      ],
      "metadata": {
        "colab": {
          "base_uri": "https://localhost:8080/"
        },
        "id": "o1n5b83sDjtE",
        "outputId": "5be95c6c-5100-4f52-d334-3157ea37c335"
      },
      "execution_count": null,
      "outputs": [
        {
          "output_type": "stream",
          "name": "stdout",
          "text": [
            "0\n",
            "Dame un número entero:5\n",
            "5\n",
            "Dame un número entero:10\n",
            "Final\n"
          ]
        }
      ]
    },
    {
      "cell_type": "code",
      "source": [],
      "metadata": {
        "id": "LU_ydsS1EkSx"
      },
      "execution_count": null,
      "outputs": []
    }
  ]
}